{
 "cells": [
  {
   "cell_type": "code",
   "execution_count": 42,
   "metadata": {},
   "outputs": [
    {
     "name": "stdout",
     "output_type": "stream",
     "text": [
      "/Users/torylbrown/Desktop/Fintech/python-homework/PyBank\n"
     ]
    }
   ],
   "source": [
    "from pathlib import Path\n",
    "import os\n",
    "import csv\n",
    "import locale\n",
    "\n",
    "locale.setlocale( locale.LC_ALL, '' )\n",
    "print(Path.cwd())\n",
    "\n",
    "def getInputFilePath():\n",
    "    inputPath = input('Enter the path & file name that you wish to read from:')\n",
    "    return inputPath\n",
    "\n",
    "def getCsvData(csvPath):\n",
    "    with open(csvPath,'r') as csvFile:\n",
    "        csvReader = csv.reader(csvFile,delimiter = ',')\n",
    "        print(type(csvReader))\n",
    "        #defining Parameters\n",
    "        header = next(csvReader)\n",
    "        netTotal = 0\n",
    "        row = 0\n",
    "        minProfLoss = 0\n",
    "        maxProfLoss = 0\n",
    "        numMonths = 0\n",
    "        for row in csvReader:\n",
    "            date = row[0]\n",
    "            profitLoss = int(row[1])\n",
    "\n",
    "            netTotal = round(netTotal + profitLoss,2)\n",
    "            numMonths = numMonths + 1\n",
    "            #Max/Min Logic\n",
    "            if minProfLoss == 0:\n",
    "                minProfLoss = profitLoss\n",
    "                minLossDate = date\n",
    "            elif profitLoss < minProfLoss:\n",
    "                minProfLoss = profitLoss\n",
    "                minLossDate = date\n",
    "            elif profitLoss > maxProfLoss:\n",
    "                maxProfLoss = profitLoss\n",
    "                maxLossDate = date\n",
    "\n",
    "        avgProfLoss = netTotal / numMonths\n",
    "        #results put into a dictionary\n",
    "        results = {\"Net_Total\": locale.currency(netTotal,grouping=True),\n",
    "                  \"Number_Months\": numMonths,\n",
    "                   \"Max_Loss_Date\": minLossDate,\n",
    "                  \"Max_Profit_Loss\": locale.currency(minProfLoss,grouping=True),\n",
    "                   \"Max_Gain_Date\": maxLossDate,\n",
    "                  \"Max_Profit_Gain\": locale.currency(maxProfLoss,grouping=True),\n",
    "                  \"Average_Profit\": locale.currency(avgProfLoss,grouping=True)}\n",
    "\n",
    "        return results\n",
    "\n",
    "def setOutputPath():\n",
    "    outputPath = input('Enter the path & file name that you wish to output to:')\n",
    "    return outputPath\n",
    "\n",
    "def writeCsvPath(outputPath,data=None,header=True):\n",
    "    # Set the output header\n",
    "    header = [\"Net_Total\",\"Number_of_Months\",\"Min_Profit_Loss\",\"Max_Profit_Loss\",\"Average_Profit_Loss\"]\n",
    "\n",
    "    # Set the output file path\n",
    "    output = Path(outputPath)\n",
    "\n",
    "    # Open the output path as a file object\n",
    "    with open(output,'w') as csvfile:\n",
    "        # Set the file object as a csvwriter object\n",
    "        csvwriter = csv.writer(csvfile, delimiter=',')\n",
    "        # Write the header to the output file\n",
    "        if header == True:\n",
    "            csvwriter.writerow(header)\n",
    "        # Write the list of dictionary items to the output file\n",
    "        csvwriter.writerow(data.items())"
   ]
  },
  {
   "cell_type": "code",
   "execution_count": 44,
   "metadata": {},
   "outputs": [
    {
     "name": "stdin",
     "output_type": "stream",
     "text": [
      "Enter the path & file name that you wish to read from: ../../../Fintech/02-Homework/02-Python/Instructions/PyBank/Resources/budget_data.csv\n"
     ]
    },
    {
     "name": "stdout",
     "output_type": "stream",
     "text": [
      "<class '_csv.reader'>\n",
      "The results are here: {'Net_Total': '$38,382,578.00', 'Number_Months': 86, 'Max_Loss_Date': 'Sep-2013', 'Max_Profit_Loss': '-$1,196,225.00', 'Max_Gain_Date': 'Feb-2012', 'Max_Profit_Gain': '$1,170,593.00', 'Average_Profit': '$446,309.05'}\n"
     ]
    },
    {
     "name": "stdin",
     "output_type": "stream",
     "text": [
      "Enter the path & file name that you wish to output to: resultsTB.csv\n"
     ]
    }
   ],
   "source": [
    "inputPath = getInputFilePath()\n",
    "results = getCsvData(inputPath)\n",
    "print(f'The results are here: {results}')\n",
    "outFile = setOutputPath()\n",
    "writeCsvPath(outFile,data=results,header=False)"
   ]
  },
  {
   "cell_type": "code",
   "execution_count": null,
   "metadata": {},
   "outputs": [],
   "source": []
  },
  {
   "cell_type": "code",
   "execution_count": null,
   "metadata": {},
   "outputs": [],
   "source": []
  },
  {
   "cell_type": "code",
   "execution_count": null,
   "metadata": {},
   "outputs": [],
   "source": []
  }
 ],
 "metadata": {
  "kernelspec": {
   "display_name": "Python 3",
   "language": "python",
   "name": "python3"
  },
  "language_info": {
   "codemirror_mode": {
    "name": "ipython",
    "version": 3
   },
   "file_extension": ".py",
   "mimetype": "text/x-python",
   "name": "python",
   "nbconvert_exporter": "python",
   "pygments_lexer": "ipython3",
   "version": "3.8.5"
  }
 },
 "nbformat": 4,
 "nbformat_minor": 4
}
