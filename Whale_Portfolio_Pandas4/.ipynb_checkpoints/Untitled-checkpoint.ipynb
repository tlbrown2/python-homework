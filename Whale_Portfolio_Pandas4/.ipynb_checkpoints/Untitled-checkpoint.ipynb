{
 "cells": [
  {
   "cell_type": "code",
   "execution_count": null,
   "metadata": {},
   "outputs": [],
   "source": [
    "from pathlib import Path\n",
    "import os\n",
    "import csv\n",
    "\n",
    "print(Path.cwd())\n",
    "\n",
    "def getCsvPath(csvPath):\n",
    "    with open(csvPath,'r') as csvFile\n",
    "    csvReader = csv.reader(csvFile)\n",
    "    return csvReader\n",
    "\n",
    "def getCsvData(csvReader):\n",
    "    header = next(csvReader)\n",
    "    \n",
    "    for row in csvReader:\n",
    "        title = row[0]\n",
    "        rating = row[1]\n",
    "        ratingLevel = row[2]\n",
    "        ratingDescription = row[3]\n",
    "        releaseYear = row[4]\n",
    "        userRatingScore = row[5]\n",
    "        userRatingSize = row[6]"
   ]
  }
 ],
 "metadata": {
  "kernelspec": {
   "display_name": "Python 3",
   "language": "python",
   "name": "python3"
  },
  "language_info": {
   "codemirror_mode": {
    "name": "ipython",
    "version": 3
   },
   "file_extension": ".py",
   "mimetype": "text/x-python",
   "name": "python",
   "nbconvert_exporter": "python",
   "pygments_lexer": "ipython3",
   "version": "3.8.5"
  }
 },
 "nbformat": 4,
 "nbformat_minor": 4
}
